{
  "nbformat": 4,
  "nbformat_minor": 0,
  "metadata": {
    "colab": {
      "provenance": [],
      "authorship_tag": "ABX9TyN2yGXLRjFHFwuIar+TcwVH",
      "include_colab_link": true
    },
    "kernelspec": {
      "name": "python3",
      "display_name": "Python 3"
    },
    "language_info": {
      "name": "python"
    }
  },
  "cells": [
    {
      "cell_type": "markdown",
      "metadata": {
        "id": "view-in-github",
        "colab_type": "text"
      },
      "source": [
        "<a href=\"https://colab.research.google.com/github/cmd1301/Python-Fundamentals-Studies/blob/main/exercicios_python.ipynb\" target=\"_parent\"><img src=\"https://colab.research.google.com/assets/colab-badge.svg\" alt=\"Open In Colab\"/></a>"
      ]
    },
    {
      "cell_type": "markdown",
      "source": [
        "Given:\n",
        "\n",
        "list1 = [100, 200, 300, 400, 500]\n",
        "\n",
        "Expected output:\n",
        "\n",
        "[500, 400, 300, 200, 100]"
      ],
      "metadata": {
        "id": "8jc5dG9GxuMn"
      }
    },
    {
      "cell_type": "code",
      "execution_count": 1,
      "metadata": {
        "colab": {
          "base_uri": "https://localhost:8080/"
        },
        "id": "O2bT6r0XxjwJ",
        "outputId": "7f42286a-8945-46ec-e6d7-22c5916e6692"
      },
      "outputs": [
        {
          "output_type": "stream",
          "name": "stdout",
          "text": [
            "[500, 400, 300, 200, 100]\n"
          ]
        }
      ],
      "source": [
        "list1 = [100, 200, 300, 400, 500]\n",
        "\n",
        "print(list1[::-1])"
      ]
    },
    {
      "cell_type": "markdown",
      "source": [
        "Exercise 2: Concatenate two lists index-wise\n",
        "Write a program to add two lists index-wise. \n",
        "\n",
        "Create a new list that contains the 0th index item from both the list, then the 1st index item, and so on till the last element. any leftover items will get added at the end of the new list.\n",
        "\n",
        "Given:\n",
        "\n",
        "list1 = [\"M\", \"na\", \"i\", \"Ke\"]\n",
        "list2 = [\"y\", \"me\", \"s\", \"lly\"]\n",
        "\n",
        "Expected output:\n",
        "\n",
        "['My', 'name', 'is', 'Kelly']"
      ],
      "metadata": {
        "id": "-iCyS7l2yF2w"
      }
    },
    {
      "cell_type": "code",
      "source": [
        "list1 = [\"M\", \"na\", \"i\", \"Ke\"] \n",
        "list2 = [\"y\", \"me\", \"s\", \"lly\"]\n",
        "\n",
        "list12 = [x+y for x, y in zip(list1, list2)]\n",
        "print(list12)"
      ],
      "metadata": {
        "colab": {
          "base_uri": "https://localhost:8080/"
        },
        "id": "D2oxcg_WyKdN",
        "outputId": "5178b84b-4bad-42b3-e3d2-9f8462ad8ddf"
      },
      "execution_count": 3,
      "outputs": [
        {
          "output_type": "stream",
          "name": "stdout",
          "text": [
            "['My', 'name', 'is', 'Kelly']\n"
          ]
        }
      ]
    },
    {
      "cell_type": "markdown",
      "source": [
        "Exercise 3: Turn every item of a list into its square\n",
        "\n",
        "Given a list of numbers. write a program to turn every item of a list into its square.\n",
        "\n",
        "Given:\n",
        "\n",
        "numbers = [1, 2, 3, 4, 5, 6, 7]\n",
        "\n",
        "Expected output:\n",
        "\n",
        "[1, 4, 9, 16, 25, 36, 49]"
      ],
      "metadata": {
        "id": "zZNDLBDAzMs_"
      }
    },
    {
      "cell_type": "code",
      "source": [
        "numbers = [1, 2, 3, 4, 5, 6, 7]\n",
        "\n",
        "pow2 = [x ** 2 for x in numbers]\n",
        "print(pow2)"
      ],
      "metadata": {
        "colab": {
          "base_uri": "https://localhost:8080/"
        },
        "id": "F4G0WzsezNDy",
        "outputId": "523dd06f-d6ec-45a1-d07e-84a8d86f450e"
      },
      "execution_count": 4,
      "outputs": [
        {
          "output_type": "stream",
          "name": "stdout",
          "text": [
            "[1, 4, 9, 16, 25, 36, 49]\n"
          ]
        }
      ]
    },
    {
      "cell_type": "markdown",
      "source": [
        "Exercise 4: Concatenate two lists in the following order\n",
        "\n",
        "list1 = [\"Hello \", \"take \"]\n",
        "\n",
        "list2 = [\"Dear\", \"Sir\"]\n",
        "\n",
        "Expected output:\n",
        "\n",
        "['Hello Dear', 'Hello Sir', 'take Dear', 'take Sir']"
      ],
      "metadata": {
        "id": "-r18FXHYzcxT"
      }
    },
    {
      "cell_type": "code",
      "source": [
        "list1 = [\"Hello \", \"take \"]\n",
        "\n",
        "list2 = [\"Dear\", \"Sir\"]\n",
        "\n",
        "conc = [x+y for x in list1 for y in list2]\n",
        "print(conc)"
      ],
      "metadata": {
        "colab": {
          "base_uri": "https://localhost:8080/"
        },
        "id": "UWKRCW-Fzh3y",
        "outputId": "e4c8edd9-25c8-4f16-939a-cbfd1a7cd702"
      },
      "execution_count": 6,
      "outputs": [
        {
          "output_type": "stream",
          "name": "stdout",
          "text": [
            "['Hello Dear', 'Hello Sir', 'take Dear', 'take Sir']\n"
          ]
        }
      ]
    },
    {
      "cell_type": "markdown",
      "source": [
        "Exercise 5: Iterate both lists simultaneously\n",
        "\n",
        "Given a two Python list. Write a program to iterate both lists simultaneously and display items from list1 in original order and items from list2 in reverse order.\n",
        "\n",
        "Given\n",
        "\n",
        "list1 = [10, 20, 30, 40]\n",
        "\n",
        "list2 = [100, 200, 300, 400]\n",
        "\n",
        "Expected output:\n",
        "\n",
        "10 400\\\n",
        "20 300\\\n",
        "30 200\\\n",
        "40 100"
      ],
      "metadata": {
        "id": "PEGnNvY1z_Yk"
      }
    },
    {
      "cell_type": "code",
      "source": [
        "def organize(a,b):\n",
        "  for i, j in zip(a,b[::-1]):\n",
        "    print(i, j)"
      ],
      "metadata": {
        "id": "Zf89-3Dm0ZYL"
      },
      "execution_count": 17,
      "outputs": []
    },
    {
      "cell_type": "code",
      "source": [
        "list1 = [10, 20, 30, 40]\n",
        "list2 = [100, 200, 300, 400]\n",
        "organize(list1, list2)"
      ],
      "metadata": {
        "colab": {
          "base_uri": "https://localhost:8080/"
        },
        "id": "h2zftGA-05GL",
        "outputId": "07447cb6-cd0d-43f8-9ae5-a30ab3eece07"
      },
      "execution_count": 18,
      "outputs": [
        {
          "output_type": "stream",
          "name": "stdout",
          "text": [
            "10 400\n",
            "20 300\n",
            "30 200\n",
            "40 100\n"
          ]
        }
      ]
    },
    {
      "cell_type": "markdown",
      "source": [
        "Exercise 6: Remove empty strings from the list of strings\\\n",
        "list1 = [\"Mike\", \"\", \"Emma\", \"Kelly\", \"\", \"Brad\"]\n",
        "\n",
        "Expected output:\n",
        "\n",
        "[\"Mike\", \"Emma\", \"Kelly\", \"Brad\"]"
      ],
      "metadata": {
        "id": "xaUj5zSl1e1O"
      }
    },
    {
      "cell_type": "code",
      "source": [
        "list1 = [\"Mike\", \"\", \"Emma\", \"Kelly\", \"\", \"Brad\"]\n",
        "for i in list1:\n",
        "  if i == '':\n",
        "    list1.remove(i)\n",
        "print(list1)"
      ],
      "metadata": {
        "colab": {
          "base_uri": "https://localhost:8080/"
        },
        "id": "uOCSR1pF1z4z",
        "outputId": "7ca71ded-6e18-459e-ac04-352ee0a4ac8f"
      },
      "execution_count": 26,
      "outputs": [
        {
          "output_type": "stream",
          "name": "stdout",
          "text": [
            "['Mike', 'Emma', 'Kelly', 'Brad']\n"
          ]
        }
      ]
    },
    {
      "cell_type": "markdown",
      "source": [
        "Exercise 7: Add new item to list after a specified item\\\n",
        "Write a program to add item 7000 after 6000 in the following Python List\n",
        "\n",
        "Given:\n",
        "\n",
        "list1 = [10, 20, [300, 400, [5000, 6000], 500], 30, 40]\n",
        "\n",
        "Expected output:\n",
        "\n",
        "[10, 20, [300, 400, [5000, 6000, 7000], 500], 30, 40]"
      ],
      "metadata": {
        "id": "YUF_0wjf3LZ7"
      }
    },
    {
      "cell_type": "code",
      "source": [
        "list1 = [10, 20, [300, 400, [5000, 6000], 500], 30, 40]\n",
        "\n",
        "list1[2][2].append(7000)\n",
        "\n",
        "list1"
      ],
      "metadata": {
        "colab": {
          "base_uri": "https://localhost:8080/"
        },
        "id": "RA4G0-GJ3UnE",
        "outputId": "69b614b6-6597-4995-df37-1be644b18e09"
      },
      "execution_count": 27,
      "outputs": [
        {
          "output_type": "execute_result",
          "data": {
            "text/plain": [
              "[10, 20, [300, 400, [5000, 6000, 7000], 500], 30, 40]"
            ]
          },
          "metadata": {},
          "execution_count": 27
        }
      ]
    },
    {
      "cell_type": "markdown",
      "source": [
        "Exercise 8: Extend nested list by adding the sublist\\\n",
        "You have given a nested list. Write a program to extend it by adding the sublist [\"h\", \"i\", \"j\"] in such a way that it will look like the following list.\n",
        "\n",
        "Given List:\n",
        "\n",
        "list1 = [\"a\", \"b\", [\"c\", [\"d\", \"e\", [\"f\", \"g\"], \"k\"], \"l\"], \"m\", \"n\"]\n",
        "\n",
        "sub list to add\\\n",
        "sub_list = [\"h\", \"i\", \"j\"]\n",
        "\n",
        "Expected Output:\n",
        "\n",
        "['a', 'b', ['c', ['d', 'e', ['f', 'g', 'h', 'i', 'j'], 'k'], 'l'], 'm', 'n']"
      ],
      "metadata": {
        "id": "d1DUqBz53pwT"
      }
    },
    {
      "cell_type": "code",
      "source": [
        "list1 = [\"a\", \"b\", [\"c\", [\"d\", \"e\", [\"f\", \"g\"], \"k\"], \"l\"], \"m\", \"n\"]\n",
        "\n",
        "sub_list = [\"h\", \"i\", \"j\"]\n",
        "\n",
        "for i in range(0,len(sub_list)):\n",
        "  list1[2][1][2].append(sub_list[i])\n",
        "\n",
        "list1"
      ],
      "metadata": {
        "colab": {
          "base_uri": "https://localhost:8080/"
        },
        "id": "aR1IYGv839H_",
        "outputId": "69ce8166-c19f-4a4c-f8be-ae3bfea03fce"
      },
      "execution_count": 31,
      "outputs": [
        {
          "output_type": "execute_result",
          "data": {
            "text/plain": [
              "['a', 'b', ['c', ['d', 'e', ['f', 'g', 'h', 'i', 'j'], 'k'], 'l'], 'm', 'n']"
            ]
          },
          "metadata": {},
          "execution_count": 31
        }
      ]
    },
    {
      "cell_type": "markdown",
      "source": [
        "Exercise 9: Replace list’s item with new value if found\\\n",
        "You have given a Python list. Write a program to find value 20 in the list, and if it is present, replace it with 200. Only update the first occurrence of an item.\n",
        "\n",
        "Given:\n",
        "\n",
        "list1 = [5, 10, 15, 20, 25, 50, 20]\n",
        "\n",
        "Expected output:\n",
        "\n",
        "[5, 10, 15, 200, 25, 50, 20]"
      ],
      "metadata": {
        "id": "b7NEuBLp52gD"
      }
    },
    {
      "cell_type": "code",
      "source": [
        "list1 = [5, 10, 15, 20, 25, 50, 20]\n",
        "\n",
        "index = list1.index(20)\n",
        "\n",
        "list1[index] = 200\n",
        "list1"
      ],
      "metadata": {
        "colab": {
          "base_uri": "https://localhost:8080/"
        },
        "id": "oC2CGJUU6Ac6",
        "outputId": "0b7d6e8f-5972-46f5-ad82-80daf61f6865"
      },
      "execution_count": 35,
      "outputs": [
        {
          "output_type": "execute_result",
          "data": {
            "text/plain": [
              "[5, 10, 15, 200, 25, 50, 20]"
            ]
          },
          "metadata": {},
          "execution_count": 35
        }
      ]
    },
    {
      "cell_type": "markdown",
      "source": [
        "Exercise 10: Remove all occurrences of a specific item from a list.\\\n",
        "Given a Python list, write a program to remove all occurrences of item 20.\n",
        "\n",
        "Given:\n",
        "\n",
        "list1 = [5, 20, 15, 20, 25, 50, 20]\n",
        "\n",
        "Expected output:\n",
        "\n",
        "[5, 15, 25, 50]"
      ],
      "metadata": {
        "id": "tmDZ4xNA7VrT"
      }
    },
    {
      "cell_type": "code",
      "source": [],
      "metadata": {
        "colab": {
          "base_uri": "https://localhost:8080/"
        },
        "id": "YgGr9VLe7iHq",
        "outputId": "1586ca53-f454-42d7-c9b2-f03fae3cb29c"
      },
      "execution_count": 46,
      "outputs": [
        {
          "output_type": "stream",
          "name": "stdout",
          "text": [
            "{5: 1, 20: 3, 15: 1, 25: 1, 50: 1}\n"
          ]
        }
      ]
    }
  ]
}